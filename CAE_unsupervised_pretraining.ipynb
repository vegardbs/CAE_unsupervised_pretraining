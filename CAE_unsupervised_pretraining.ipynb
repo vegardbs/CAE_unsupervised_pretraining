{
  "nbformat": 4,
  "nbformat_minor": 0,
  "metadata": {
    "colab": {
      "name": "supervised_and_unsupervised_class.ipynb",
      "provenance": [],
      "collapsed_sections": [],
      "toc_visible": true
    },
    "kernelspec": {
      "name": "python3",
      "display_name": "Python 3"
    },
    "accelerator": "GPU"
  },
  "cells": [
    {
      "cell_type": "code",
      "metadata": {
        "id": "Odzhc_s4b_4J",
        "colab_type": "code",
        "colab": {}
      },
      "source": [
        "import matplotlib.pyplot as plt\n",
        "import numpy as np\n",
        "import keras\n",
        "from keras import backend as K\n",
        "from keras.layers import Dense, Flatten, InputLayer, Conv2D, Conv2DTranspose, MaxPool2D\n",
        "from keras.layers import Dropout, GaussianNoise\n",
        "from keras import Sequential, Model\n",
        "from sklearn.utils import compute_class_weight\n",
        "import os\n",
        "from tensorflow.python.util import deprecation\n",
        "deprecation._PRINT_DEPRECATION_WARNINGS = False\n",
        "from keras.preprocessing.image import ImageDataGenerator\n",
        "import tied_convolution\n",
        "from tied_convolution import Conv2DTranspose_tied\n",
        "\n",
        "class CAE_classifier:\n",
        "    \"\"\" \n",
        "    Class to build and train combined autoencoder and classifier networks.\n",
        "\n",
        "    --MAIN METHODS--\n",
        "\n",
        "    build_autoencoder():\n",
        "      Method to build the encoder and autoencoder networks.\n",
        "      The encoder is passed as a layer to the autoencoder and classifier networks,\n",
        "      so to access the layers within the encoder block, use autoencoder.layers[0].layers\n",
        "      > Gets called when an instance of the class is created.\n",
        "\n",
        "    train_autoencoder(x_train,x_test):\n",
        "      Method to train the autoencoder. The input data and target data is the same,\n",
        "      since the goal is to reconstruct the input. Data shape has to be (-1,) + input_shape\n",
        "\n",
        "    build_classifier(pretrained = True):\n",
        "      Method to build a classifer model. \n",
        "      If the pretrained keyword is True, weights from the trained autoencoder gets\n",
        "      copied to the encoder block of the classifier. If it is False, the network\n",
        "      is initialized with the same architecture, but the weights and biases are random.\n",
        "      > Gets called by the train_classifer method.\n",
        "\n",
        "    train_classfier(data,val_data, pretrained = True):\n",
        "      Method to train a classifer model.\n",
        "      If the pretrained keyword is True, a model with pretrained weights from\n",
        "      the autoencoder is created. If it is False, an identical model with randomized\n",
        "      initial weights is crated.\n",
        "\n",
        "    evaluate_classifier(x_test, y_test, key = \"pretrained_classifier\"):\n",
        "      Method to evaluate the classfiers on test data.\n",
        "      Keyword determine which classifier should be evaluated.\n",
        "\n",
        "    --VISUALIZATION METHODS--\n",
        "\n",
        "    plot_reconstruction(image):\n",
        "      Method to plot the autoencoder reconstruction of provided image\n",
        "\n",
        "    plot_filters(key = \"autoencoder):\n",
        "      Plots the filters of the first convolutional layer.\n",
        "      Keyword determine which model the filters come from.\n",
        "\n",
        "    plot_feature_map(key = \"autoencoder):\n",
        "      Method to plot the feature map of the first convolutional layer.\n",
        "      Keyword determines which model the feature map come from.\n",
        "    \"\"\"\n",
        "\n",
        "    def __init__(self,input_shape):\n",
        "        self.input_shape = input_shape\n",
        "        self.pretrained_classifier = None\n",
        "        self.rand_init_classifier = None\n",
        "        \n",
        "        self.autoencoder, self.encoder = self.build_autoencoder()\n",
        "\n",
        "    def build_autoencoder(self):\n",
        "\n",
        "        padding = \"same\"\n",
        "        optimizer = \"adam\"\n",
        "        activation = \"relu\"\n",
        "   \n",
        "        conv1     = Conv2D(128, (5,5), activation = activation,padding=padding, name = \"conv1\")\n",
        "        max_pool1 = MaxPool2D((2,2))\n",
        "        conv2     = Conv2D(64,  (5,5), activation = activation,padding=padding)\n",
        "        max_pool2 = MaxPool2D((2,2))\n",
        "        conv3     = Conv2D(32,  (5,5), activation = activation,padding=padding)\n",
        "\n",
        "        tied_conv1 = Conv2DTranspose_tied(64,  (5,5), padding=padding, activation = activation, tied_to = conv3, strides=(2,2))\n",
        "        tied_conv2 = Conv2DTranspose_tied(128, (5,5), padding=padding, activation = activation, tied_to = conv2, strides=(2,2))\n",
        "        tied_conv3 = Conv2DTranspose_tied(3,   (5,5), padding=padding, activation = activation, tied_to = conv1)\n",
        "\n",
        "        encoder = Sequential([\n",
        "            conv1,\n",
        "            max_pool1,\n",
        "            conv2,\n",
        "            max_pool2,\n",
        "            conv3,\n",
        "        ])\n",
        "\n",
        "        autoencoder = Sequential([\n",
        "            InputLayer(input_shape=(32,32,3)),\n",
        "            GaussianNoise(0.2),\n",
        "            encoder,\n",
        "            tied_conv1,\n",
        "            tied_conv2,\n",
        "            tied_conv3])\n",
        "        \n",
        "        autoencoder.compile(optimizer = optimizer, loss=\"mse\")\n",
        "        return autoencoder, encoder\n",
        "    \n",
        "    def train_autoencoder(self, x_train, x_test, epochs, batch_size, verbose = 1):\n",
        "        \n",
        "        train_datagen = ImageDataGenerator(\n",
        "          samplewise_center=True,\n",
        "          samplewise_std_normalization=True)\n",
        "        \n",
        "        test_datagen = ImageDataGenerator(\n",
        "          samplewise_center=True,\n",
        "          samplewise_std_normalization=True)\n",
        "        \n",
        "        train_datagen.fit(x_train)\n",
        "        test_datagen.fit(x_test)\n",
        "\n",
        "        train_iterator = train_datagen.flow(x_train, x_train, batch_size=batch_size)\n",
        "        test_iterator  = test_datagen.flow(x_test, x_test, batch_size=batch_size)\n",
        "\n",
        "        history = self.autoencoder.fit_generator(train_iterator,\n",
        "                            epochs = epochs,\n",
        "                            steps_per_epoch = len(x_train) // batch_size,\n",
        "                            validation_data = test_iterator,\n",
        "                            validation_steps = len(x_test) // batch_size,\n",
        "                            verbose = verbose)\n",
        "\n",
        "        return history\n",
        "    \n",
        "        \n",
        "    def build_classifier(self, pretrained = True):\n",
        "\n",
        "        optimizer = \"adam\"\n",
        "        encoder_copy = keras.models.clone_model(self.encoder)\n",
        "        \n",
        "        if pretrained:\n",
        "            encoder_copy.set_weights(self.encoder.get_weights())\n",
        "\n",
        "        classifier = Sequential([\n",
        "               InputLayer(input_shape = self.input_shape),\n",
        "               GaussianNoise(0.2),\n",
        "               encoder_copy,\n",
        "               Flatten(),\n",
        "               Dropout(0.2),\n",
        "               Dense(256, activation = \"relu\"),\n",
        "               Dropout(0.2),\n",
        "               Dense(10, activation = \"softmax\")\n",
        "               ])\n",
        "        \n",
        "        classifier.compile(optimizer = optimizer, loss = \"categorical_crossentropy\", metrics = [\"accuracy\"])\n",
        "\n",
        "        return classifier\n",
        "    \n",
        "        \n",
        "    def train_classifier(self, data, val_data, epochs, batch_size, pretrained = True, class_weight = None, data_augmentation = False, verbose = 1):\n",
        "        if pretrained:\n",
        "            self.pretrained_classifier = self.build_classifier(pretrained)\n",
        "            model = self.pretrained_classifier\n",
        "        else:    \n",
        "            self.rand_init_classifier = self.build_classifier(pretrained)\n",
        "            model = self.rand_init_classifier\n",
        "        \n",
        "        x_train, y_train = data\n",
        "        x_val,  y_val  = val_data\n",
        "\n",
        "        y_train_ohe = self.one_hot_encode(y_train)\n",
        "        y_val_ohe  = self.one_hot_encode(y_val)\n",
        "\n",
        "        if class_weight:\n",
        "          weights = compute_class_weight(\"balanced\",np.unique(y_train),y_train.reshape(-1,))\n",
        "          class_weight = {class_ind:weight for class_ind, weight in enumerate(weights)}\n",
        "\n",
        "        if data_augmentation:\n",
        "          train_datagen = ImageDataGenerator(\n",
        "          samplewise_center=True,\n",
        "          samplewise_std_normalization=True,\n",
        "          rotation_range = 15,\n",
        "          width_shift_range=0.1,\n",
        "          height_shift_range=0.1,\n",
        "          horizontal_flip=True)\n",
        "\n",
        "        else:\n",
        "          train_datagen = ImageDataGenerator(\n",
        "          samplewise_center=True,\n",
        "          samplewise_std_normalization=True)\n",
        "          \n",
        "        val_datagen = ImageDataGenerator(\n",
        "            samplewise_center=True,\n",
        "            samplewise_std_normalization=True)\n",
        "      \n",
        "        train_datagen.fit(x_train)\n",
        "        val_datagen.fit(x_val)\n",
        "            \n",
        "        train_iterator = train_datagen.flow(x_train, y_train_ohe, batch_size=batch_size)\n",
        "        val_iterator = val_datagen.flow(x_val, y_val_ohe, batch_size=batch_size)\n",
        "\n",
        "        history = model.fit_generator(train_iterator,\n",
        "                            epochs = epochs,\n",
        "                            steps_per_epoch = len(x_train) // batch_size,\n",
        "                            validation_data = val_iterator,\n",
        "                            validation_steps = len(x_val) // batch_size,\n",
        "                            class_weight = class_weight,\n",
        "                            verbose = verbose)\n",
        "        return history\n",
        "\n",
        "\n",
        "    def evaluate_classifier(self, x_test, y_test, key = \"pretrained_classifier\"):\n",
        "        keys = {\"pretrained_classifier\": self.pretrained_classifier,\n",
        "                \"rand_init_classifier\": self.rand_init_classifier}\n",
        "\n",
        "        model = keys[key]\n",
        "        \n",
        "        test_datagen = ImageDataGenerator(\n",
        "        samplewise_center=True,\n",
        "        samplewise_std_normalization=True)\n",
        "\n",
        "        test_datagen.fit(x_test)\n",
        "        y_test_ohe = self.one_hot_encode(y_test)\n",
        "\n",
        "        test_iterator = test_datagen.flow(x_test, y_test_ohe, batch_size=64)\n",
        "\n",
        "        evaluation = model.evaluate(test_iterator)\n",
        "        print(\"Accuracy of \" + key + f\" on test data is {100*evaluation[1]:.2f}%\")\n",
        "        return evaluation\n",
        "\n",
        "\n",
        "    \"\"\" ----- Vizualisation methods and helper functions ----- \"\"\"\n",
        "\n",
        "\n",
        "    def one_hot_encode(self, y_labels):\n",
        "        y_labels_ohe = [np.eye(10,1,k=-int(label[0])) for label in y_labels]\n",
        "        y_labels_ohe = np.array(y_labels_ohe).reshape(-1,10)\n",
        "        return y_labels_ohe\n",
        "\n",
        "    # For this to method to work as intended, the sample-wise standardization has to be turned off\n",
        "    def plot_reconstruction(self, images):\n",
        "        fig = plt.figure(figsize = (10,5))\n",
        "        n_imgs = len(images)\n",
        "\n",
        "        for n in range(1,6):\n",
        "          img = images[n].reshape(self.input_shape)\n",
        "          ae_img = self.autoencoder.predict(img.reshape((1,)+self.input_shape))\n",
        "\n",
        "          plt.subplot(2,5,n)\n",
        "          plt.imshow(img)\n",
        "          frame = plt.gca()\n",
        "          frame.axes.xaxis.set_visible(False)\n",
        "          frame.axes.yaxis.set_visible(False)\n",
        "\n",
        "          plt.subplot(2,5,n+5)\n",
        "          plt.imshow(ae_img.reshape(self.input_shape))\n",
        "          frame = plt.gca()\n",
        "          frame.axes.xaxis.set_visible(False)\n",
        "          frame.axes.yaxis.set_visible(False)\n",
        "    \n",
        "        \n",
        "    def plot_filters(self, key=\"autoencoder\"):\n",
        "        keys = {\"autoencoder\":self.autoencoder,\n",
        "                \"pretrained_classifier\":self.pretrained_classifier,\n",
        "                \"rand_init_classifier\":self.rand_init_classifier}\n",
        "        \n",
        "        model = keys[key]\n",
        "        filters = model.get_weights()[0]\n",
        "        \n",
        "        fig = plt.figure(figsize=(10,10))\n",
        "        \n",
        "        for n in range(min(filters.shape[-1],100)):\n",
        "            filt = filters[...,n]\n",
        "            f_min,f_max = filt.min(), filt.max() \n",
        "            filt = (filt-f_min)/(f_max-f_min)\n",
        "            plt.subplot(10,10,n+1)\n",
        "            plt.imshow(filt)\n",
        "            frame = plt.gca()\n",
        "            frame.axes.xaxis.set_visible(False)\n",
        "            frame.axes.yaxis.set_visible(False)\n",
        "            \n",
        "    def plot_feature_map(self, image, key = \"autoencoder\"):\n",
        "        keys = {\"autoencoder\": self.autoencoder,\n",
        "                \"pretrained_classifier\": self.pretrained_classifier,\n",
        "                \"rand_init_classifier\": self.rand_init_classifier}\n",
        "        \n",
        "        model = keys[key].layers[1]\n",
        "        feature_map_model = Model(inputs=model.inputs, outputs=model.get_layer(\"conv1\").output)\n",
        "        feature_map = feature_map_model.predict(image.reshape(1,32,32,3))\n",
        "\n",
        "        fig = plt.figure(figsize=(20,20))\n",
        "        for n in range(min(feature_map.shape[-1],100)):\n",
        "            plt.subplot(10,10,n+1)\n",
        "            features = feature_map[0,...,n]\n",
        "\n",
        "            f_min,f_max = features.min(), features.max() \n",
        "            features = (features-f_min)/(f_max-f_min)\n",
        "\n",
        "            plt.imshow(features,cmap =\"gray\")\n",
        "            frame = plt.gca()\n",
        "            frame.axes.xaxis.set_visible(False)\n",
        "            frame.axes.yaxis.set_visible(False)\n"
      ],
      "execution_count": 0,
      "outputs": []
    },
    {
      "cell_type": "code",
      "metadata": {
        "id": "Z1x4h5ymxPfL",
        "colab_type": "code",
        "colab": {}
      },
      "source": [
        "\"\"\"------------------Data processing functions------------------\"\"\"\n",
        "\n",
        "def remove_samples(x_data, y_labels, num_samples, categories = (2,4,9)):\n",
        "    \"\"\" \n",
        "    Function to remove a set amount of samples of the given categories.\n",
        "    Returns a new downsampled dataset.\n",
        "    \"\"\"\n",
        "    assert ((y_labels.shape[1] == 1) or (len(y_labels.shape) == 1)) , \"Label shape unrecognized\"\n",
        "    assert (len(x_data) == len(y_labels)), \"Number of datasamples does not match number of labels\"\n",
        "\n",
        "    to_remove = []\n",
        "    for category in categories:\n",
        "      category_inds = np.where(y_labels == category)[0][:num_samples]\n",
        "      to_remove.append(category_inds)\n",
        "\n",
        "    to_remove = np.hstack(to_remove)\n",
        "\n",
        "    x_data = np.delete(x_data, to_remove, axis = 0)\n",
        "    y_labels = np.delete(y_labels, to_remove, axis = 0)\n",
        "\n",
        "    return x_data, y_labels\n",
        "\n",
        "\n",
        "def horizontal_flip(x_data, y_labels, categories = (2,4,9)):\n",
        "    \"\"\" \n",
        "    Function to create horizontal copies of all the images of a given category.\n",
        "    Returns a new dataset upsampled with flipped copies.\n",
        "    \"\"\"\n",
        "    new_imgs = []\n",
        "    new_labels = []\n",
        "    for category in categories:\n",
        "        category_inds = np.where(y_labels == category)[0]\n",
        "        to_flip = x_data[category_inds]\n",
        "        for img in to_flip:\n",
        "            flipped = np.fliplr(img)\n",
        "            new_imgs.append(flipped)\n",
        "            new_labels.append(category)\n",
        "            \n",
        "    new_imgs = np.array(new_imgs)\n",
        "    new_labels = np.array(new_labels).reshape((-1,1))\n",
        "\n",
        "    data   = np.vstack([x_data,   new_imgs])\n",
        "    labels = np.vstack([y_labels, new_labels])\n",
        "\n",
        "    idx = np.random.permutation(data.shape[0])\n",
        "\n",
        "    return data[idx], labels[idx]\n"
      ],
      "execution_count": 0,
      "outputs": []
    },
    {
      "cell_type": "markdown",
      "metadata": {
        "id": "PJ38sjtArX50",
        "colab_type": "text"
      },
      "source": [
        "# Example usage of the majority downsampling method\n",
        "To use this class for the other methods, the following changes has to be made:\n",
        "\n",
        "1. Minority upsampling: use min_categories when calling remove_samples on the training data, and uncomment the line where horizontal flip is called. Also remember to set horizontal_flip = False for the data augmentation in the train_classifier class method\n",
        "\n",
        "2. Class weights: use min_categories when calling remove_samples on the training data, and set class_weight = True when training the classifiers\n",
        "\n",
        "In the following code block we import the cifar-10 dataset, remove half the samples of all categories, and split the training set into training and validation."
      ]
    },
    {
      "cell_type": "code",
      "metadata": {
        "id": "kDucCoGgdcm2",
        "colab_type": "code",
        "outputId": "b3785ac9-8ede-49a7-a8c8-e2d160e18b32",
        "colab": {
          "base_uri": "https://localhost:8080/",
          "height": 68
        }
      },
      "source": [
        "\"\"\" Importing data and separating it into train, test and validation \"\"\"\n",
        "\n",
        "from keras.datasets import cifar10\n",
        "from sklearn.model_selection import train_test_split\n",
        "\n",
        "min_categories = (2,4,9)\n",
        "all_categories = np.arange(10)\n",
        "\n",
        "(x_train, y_train), (x_test, y_test) = cifar10.load_data()\n",
        "x_train, x_test = x_train/255, x_test/255\n",
        "\n",
        "x_train, y_train = remove_samples(x_train, y_train, 2500, categories = all_categories)\n",
        "x_test,  y_test  = remove_samples(x_test,  y_test,  500 , categories = all_categories)\n",
        "\n",
        "#x_train, y_train = horizontal_flip(x_train,y_train, categories= min_categories) # Uncomment to create horizontally flipped copies\n",
        "\n",
        "x_train, x_val, y_train, y_val = train_test_split(x_train,y_train, shuffle = True, test_size = 0.05)\n",
        "\n",
        "\n",
        "print(f\"Shape of x-train is {x_train.shape} and y-train is {y_train.shape} \")\n",
        "print(f\"Shape of x-val is {x_val.shape} and y-val is {y_val.shape} \")\n",
        "print(f\"Shape of x-test is {x_test.shape} and y-test is {y_test.shape} \")"
      ],
      "execution_count": 70,
      "outputs": [
        {
          "output_type": "stream",
          "text": [
            "Shape of x-train is (23750, 32, 32, 3) and y-train is (23750, 1) \n",
            "Shape of x-val is (1250, 32, 32, 3) and y-val is (1250, 1) \n",
            "Shape of x-test is (5000, 32, 32, 3) and y-test is (5000, 1) \n"
          ],
          "name": "stdout"
        }
      ]
    },
    {
      "cell_type": "markdown",
      "metadata": {
        "id": "MKfN-ACNr2Rf",
        "colab_type": "text"
      },
      "source": [
        "We then create an instance of the convolutional autoencoder pretraining class, and print the summary of the encoder and autoencoder network. Since we employ tied weights on the transpose convolutions, the number of parameters shown for those layers are only the biases."
      ]
    },
    {
      "cell_type": "code",
      "metadata": {
        "id": "A8iJczOZdliq",
        "colab_type": "code",
        "outputId": "305991b2-be8c-455a-eeb6-c7683859948e",
        "colab": {
          "base_uri": "https://localhost:8080/",
          "height": 629
        }
      },
      "source": [
        "input_shape = (32,32,3)\n",
        "model = CAE_classifier(input_shape)\n",
        "model.encoder.summary()\n",
        "model.autoencoder.summary()"
      ],
      "execution_count": 71,
      "outputs": [
        {
          "output_type": "stream",
          "text": [
            "Model: \"sequential_6\"\n",
            "_________________________________________________________________\n",
            "Layer (type)                 Output Shape              Param #   \n",
            "=================================================================\n",
            "conv1 (Conv2D)               (None, 32, 32, 128)       9728      \n",
            "_________________________________________________________________\n",
            "max_pooling2d_5 (MaxPooling2 (None, 16, 16, 128)       0         \n",
            "_________________________________________________________________\n",
            "conv2d_5 (Conv2D)            (None, 16, 16, 64)        204864    \n",
            "_________________________________________________________________\n",
            "max_pooling2d_6 (MaxPooling2 (None, 8, 8, 64)          0         \n",
            "_________________________________________________________________\n",
            "conv2d_6 (Conv2D)            (None, 8, 8, 32)          51232     \n",
            "=================================================================\n",
            "Total params: 265,824\n",
            "Trainable params: 265,824\n",
            "Non-trainable params: 0\n",
            "_________________________________________________________________\n",
            "Model: \"sequential_7\"\n",
            "_________________________________________________________________\n",
            "Layer (type)                 Output Shape              Param #   \n",
            "=================================================================\n",
            "gaussian_noise_4 (GaussianNo (None, 32, 32, 3)         0         \n",
            "_________________________________________________________________\n",
            "sequential_6 (Sequential)    (None, 8, 8, 32)          265824    \n",
            "_________________________________________________________________\n",
            "conv2d_transpose_tied_7 (Con (None, 16, 16, 64)        64        \n",
            "_________________________________________________________________\n",
            "conv2d_transpose_tied_8 (Con (None, 32, 32, 128)       128       \n",
            "_________________________________________________________________\n",
            "conv2d_transpose_tied_9 (Con (None, 32, 32, 3)         3         \n",
            "=================================================================\n",
            "Total params: 266,019\n",
            "Trainable params: 266,019\n",
            "Non-trainable params: 0\n",
            "_________________________________________________________________\n"
          ],
          "name": "stdout"
        }
      ]
    },
    {
      "cell_type": "markdown",
      "metadata": {
        "id": "9kqwIdXXsGrF",
        "colab_type": "text"
      },
      "source": [
        "Next we train the autoencoder using a batch size of 64 for 20 epochs. Both the training and testing images are sample-wise standardized."
      ]
    },
    {
      "cell_type": "code",
      "metadata": {
        "id": "n1233RdWjcox",
        "colab_type": "code",
        "outputId": "1a19e3f9-dbd5-4bb6-d41a-bf8a1184f190",
        "colab": {
          "base_uri": "https://localhost:8080/",
          "height": 714
        }
      },
      "source": [
        "model.train_autoencoder(x_train, x_test, epochs = 20, batch_size = 64)"
      ],
      "execution_count": 72,
      "outputs": [
        {
          "output_type": "stream",
          "text": [
            "Epoch 1/20\n",
            "371/371 [==============================] - 8s 21ms/step - loss: 0.0382 - val_loss: 0.0178\n",
            "Epoch 2/20\n",
            "371/371 [==============================] - 7s 20ms/step - loss: 0.0166 - val_loss: 0.0142\n",
            "Epoch 3/20\n",
            "371/371 [==============================] - 7s 20ms/step - loss: 0.0145 - val_loss: 0.0131\n",
            "Epoch 4/20\n",
            "371/371 [==============================] - 7s 20ms/step - loss: 0.0133 - val_loss: 0.0122\n",
            "Epoch 5/20\n",
            "371/371 [==============================] - 7s 20ms/step - loss: 0.0124 - val_loss: 0.0129\n",
            "Epoch 6/20\n",
            "371/371 [==============================] - 7s 20ms/step - loss: 0.0115 - val_loss: 0.0126\n",
            "Epoch 7/20\n",
            "371/371 [==============================] - 7s 20ms/step - loss: 0.0112 - val_loss: 0.0119\n",
            "Epoch 8/20\n",
            "371/371 [==============================] - 7s 20ms/step - loss: 0.0109 - val_loss: 0.0103\n",
            "Epoch 9/20\n",
            "371/371 [==============================] - 7s 19ms/step - loss: 0.0102 - val_loss: 0.0114\n",
            "Epoch 10/20\n",
            "371/371 [==============================] - 7s 20ms/step - loss: 0.0099 - val_loss: 0.0098\n",
            "Epoch 11/20\n",
            "371/371 [==============================] - 7s 20ms/step - loss: 0.0099 - val_loss: 0.0097\n",
            "Epoch 12/20\n",
            "371/371 [==============================] - 7s 20ms/step - loss: 0.0097 - val_loss: 0.0095\n",
            "Epoch 13/20\n",
            "371/371 [==============================] - 7s 20ms/step - loss: 0.0093 - val_loss: 0.0093\n",
            "Epoch 14/20\n",
            "371/371 [==============================] - 7s 20ms/step - loss: 0.0092 - val_loss: 0.0092\n",
            "Epoch 15/20\n",
            "371/371 [==============================] - 7s 20ms/step - loss: 0.0088 - val_loss: 0.0090\n",
            "Epoch 16/20\n",
            "371/371 [==============================] - 7s 20ms/step - loss: 0.0087 - val_loss: 0.0101\n",
            "Epoch 17/20\n",
            "371/371 [==============================] - 7s 20ms/step - loss: 0.0086 - val_loss: 0.0091\n",
            "Epoch 18/20\n",
            "371/371 [==============================] - 7s 20ms/step - loss: 0.0084 - val_loss: 0.0083\n",
            "Epoch 19/20\n",
            "371/371 [==============================] - 7s 20ms/step - loss: 0.0083 - val_loss: 0.0096\n",
            "Epoch 20/20\n",
            "371/371 [==============================] - 7s 19ms/step - loss: 0.0082 - val_loss: 0.0083\n"
          ],
          "name": "stdout"
        },
        {
          "output_type": "execute_result",
          "data": {
            "text/plain": [
              "<keras.callbacks.History at 0x7fb9bc447be0>"
            ]
          },
          "metadata": {
            "tags": []
          },
          "execution_count": 72
        }
      ]
    },
    {
      "cell_type": "markdown",
      "metadata": {
        "id": "OqbKKIlzsTFa",
        "colab_type": "text"
      },
      "source": [
        "Here we plot the 100 first filters obtained from the first convolutional layer of the autoencoder, i.e. the filters applied to the input images."
      ]
    },
    {
      "cell_type": "code",
      "metadata": {
        "id": "N7yVZrgCmLSe",
        "colab_type": "code",
        "outputId": "0c280645-c898-45fa-dc86-3d013e2d85f0",
        "colab": {
          "base_uri": "https://localhost:8080/",
          "height": 578
        }
      },
      "source": [
        "model.plot_filters(\"autoencoder\")"
      ],
      "execution_count": 73,
      "outputs": [
        {
          "output_type": "display_data",
          "data": {
            "image/png": "[encoded data removed]",
            "text/plain": [
              "<Figure size 720x720 with 100 Axes>"
            ]
          },
          "metadata": {
            "tags": []
          }
        }
      ]
    },
    {
      "cell_type": "markdown",
      "metadata": {
        "id": "8Jaks7OYsgLw",
        "colab_type": "text"
      },
      "source": [
        "Next we train a classifier using the pretrained weights from the autoencoder. The batch size is 128 and we train for 20 epochs with data augmentation (horizontal flip, 15% angle rotation and 10% vertical and horizontal shifts). We then evaluate the converged model on the test set."
      ]
    },
    {
      "cell_type": "code",
      "metadata": {
        "id": "-hNJxN4P46Ng",
        "colab_type": "code",
        "outputId": "dc9ba0b5-2127-493c-bdcc-c3a18730cf11",
        "colab": {
          "base_uri": "https://localhost:8080/",
          "height": 731
        }
      },
      "source": [
        "history = model.train_classifier((x_train,y_train),(x_val,y_val), pretrained = True, batch_size = 128, epochs = 20, class_weight=None, data_augmentation=True)\n",
        "test_results = model.evaluate_classifier(x_test,y_test,key=\"pretrained_classifier\")"
      ],
      "execution_count": 75,
      "outputs": [
        {
          "output_type": "stream",
          "text": [
            "Epoch 1/20\n",
            "185/185 [==============================] - 13s 71ms/step - loss: 1.7281 - acc: 0.3721 - val_loss: 1.4255 - val_acc: 0.4731\n",
            "Epoch 2/20\n",
            "185/185 [==============================] - 13s 69ms/step - loss: 1.4362 - acc: 0.4835 - val_loss: 1.2126 - val_acc: 0.5766\n",
            "Epoch 3/20\n",
            "185/185 [==============================] - 13s 70ms/step - loss: 1.2945 - acc: 0.5399 - val_loss: 1.1672 - val_acc: 0.5838\n",
            "Epoch 4/20\n",
            "185/185 [==============================] - 13s 69ms/step - loss: 1.2065 - acc: 0.5748 - val_loss: 1.0104 - val_acc: 0.6462\n",
            "Epoch 5/20\n",
            "185/185 [==============================] - 13s 69ms/step - loss: 1.1295 - acc: 0.6031 - val_loss: 1.0025 - val_acc: 0.6515\n",
            "Epoch 6/20\n",
            "185/185 [==============================] - 13s 68ms/step - loss: 1.0814 - acc: 0.6229 - val_loss: 0.9497 - val_acc: 0.6783\n",
            "Epoch 7/20\n",
            "185/185 [==============================] - 13s 68ms/step - loss: 1.0404 - acc: 0.6365 - val_loss: 0.8947 - val_acc: 0.6898\n",
            "Epoch 8/20\n",
            "185/185 [==============================] - 13s 69ms/step - loss: 0.9811 - acc: 0.6605 - val_loss: 0.9029 - val_acc: 0.6934\n",
            "Epoch 9/20\n",
            "185/185 [==============================] - 13s 69ms/step - loss: 0.9531 - acc: 0.6646 - val_loss: 0.8917 - val_acc: 0.7023\n",
            "Epoch 10/20\n",
            "185/185 [==============================] - 12s 67ms/step - loss: 0.9270 - acc: 0.6730 - val_loss: 0.8852 - val_acc: 0.7228\n",
            "Epoch 11/20\n",
            "185/185 [==============================] - 13s 68ms/step - loss: 0.9062 - acc: 0.6827 - val_loss: 0.8663 - val_acc: 0.7101\n",
            "Epoch 12/20\n",
            "185/185 [==============================] - 13s 68ms/step - loss: 0.8978 - acc: 0.6910 - val_loss: 0.7902 - val_acc: 0.7353\n",
            "Epoch 13/20\n",
            "185/185 [==============================] - 13s 69ms/step - loss: 0.8683 - acc: 0.6946 - val_loss: 0.7877 - val_acc: 0.7317\n",
            "Epoch 14/20\n",
            "185/185 [==============================] - 13s 69ms/step - loss: 0.8426 - acc: 0.7037 - val_loss: 0.8070 - val_acc: 0.7237\n",
            "Epoch 15/20\n",
            "185/185 [==============================] - 13s 68ms/step - loss: 0.8381 - acc: 0.7068 - val_loss: 0.8048 - val_acc: 0.7255\n",
            "Epoch 16/20\n",
            "185/185 [==============================] - 13s 68ms/step - loss: 0.8191 - acc: 0.7160 - val_loss: 0.7990 - val_acc: 0.7442\n",
            "Epoch 17/20\n",
            "185/185 [==============================] - 12s 67ms/step - loss: 0.8149 - acc: 0.7155 - val_loss: 0.7634 - val_acc: 0.7424\n",
            "Epoch 18/20\n",
            "185/185 [==============================] - 13s 70ms/step - loss: 0.7897 - acc: 0.7222 - val_loss: 0.7263 - val_acc: 0.7522\n",
            "Epoch 19/20\n",
            "185/185 [==============================] - 12s 68ms/step - loss: 0.7839 - acc: 0.7279 - val_loss: 0.7459 - val_acc: 0.7567\n",
            "Epoch 20/20\n",
            "185/185 [==============================] - 12s 68ms/step - loss: 0.7697 - acc: 0.7291 - val_loss: 0.8005 - val_acc: 0.7353\n",
            "79/79 [==============================] - 1s 7ms/step\n",
            "Accuracy of pretrained_classifier on test data is 73.78%\n"
          ],
          "name": "stdout"
        }
      ]
    },
    {
      "cell_type": "markdown",
      "metadata": {
        "id": "Zo6b3aGt0JXw",
        "colab_type": "text"
      },
      "source": [
        "Here we calculate the precision, recall and f1-score for the classes."
      ]
    },
    {
      "cell_type": "code",
      "metadata": {
        "id": "VvLNfme2p9MH",
        "colab_type": "code",
        "colab": {
          "base_uri": "https://localhost:8080/",
          "height": 306
        },
        "outputId": "e353dc52-c9f3-4bcb-f83c-7768556bcec9"
      },
      "source": [
        "from sklearn.metrics import classification_report\n",
        "\n",
        "test_datagen = ImageDataGenerator(\n",
        "      samplewise_center=True,\n",
        "      samplewise_std_normalization=True)\n",
        "\n",
        "test_datagen.fit(x_test)\n",
        "test_iterator = test_datagen.flow(x_test, shuffle=False)\n",
        "\n",
        "y_pred = model.pretrained_classifier.predict_generator(test_iterator)\n",
        "y_pred = np.argmax(y_pred, axis=1)\n",
        "print(classification_report(y_test, y_pred))"
      ],
      "execution_count": 76,
      "outputs": [
        {
          "output_type": "stream",
          "text": [
            "              precision    recall  f1-score   support\n",
            "\n",
            "           0       0.73      0.82      0.77       500\n",
            "           1       0.88      0.83      0.85       500\n",
            "           2       0.74      0.59      0.66       500\n",
            "           3       0.56      0.50      0.53       500\n",
            "           4       0.69      0.67      0.68       500\n",
            "           5       0.76      0.55      0.63       500\n",
            "           6       0.75      0.81      0.78       500\n",
            "           7       0.70      0.85      0.77       500\n",
            "           8       0.82      0.86      0.84       500\n",
            "           9       0.75      0.90      0.82       500\n",
            "\n",
            "    accuracy                           0.74      5000\n",
            "   macro avg       0.74      0.74      0.73      5000\n",
            "weighted avg       0.74      0.74      0.73      5000\n",
            "\n"
          ],
          "name": "stdout"
        }
      ]
    },
    {
      "cell_type": "markdown",
      "metadata": {
        "id": "UATRNcNPszD7",
        "colab_type": "text"
      },
      "source": [
        "Here we perform the same training as above, but this time we create a new classifier network without copying the weights from the autoencoder."
      ]
    },
    {
      "cell_type": "code",
      "metadata": {
        "id": "15IbMUay5Z8j",
        "colab_type": "code",
        "outputId": "e1eab9ad-c7e6-4e5d-a0ba-3b372b7390fb",
        "colab": {
          "base_uri": "https://localhost:8080/",
          "height": 731
        }
      },
      "source": [
        "history = model.train_classifier((x_train,y_train),(x_val,y_val), pretrained = False, batch_size = 128, epochs = 20, class_weight=None, data_augmentation=True)\n",
        "test_results = model.evaluate_classifier(x_test,y_test, key = \"rand_init_classifier\")"
      ],
      "execution_count": 78,
      "outputs": [
        {
          "output_type": "stream",
          "text": [
            "Epoch 1/20\n",
            "185/185 [==============================] - 14s 75ms/step - loss: 1.7180 - acc: 0.3707 - val_loss: 1.3911 - val_acc: 0.4905\n",
            "Epoch 2/20\n",
            "185/185 [==============================] - 13s 70ms/step - loss: 1.4282 - acc: 0.4873 - val_loss: 1.2343 - val_acc: 0.5606\n",
            "Epoch 3/20\n",
            "185/185 [==============================] - 13s 69ms/step - loss: 1.2996 - acc: 0.5345 - val_loss: 1.1085 - val_acc: 0.6168\n",
            "Epoch 4/20\n",
            "185/185 [==============================] - 13s 68ms/step - loss: 1.1992 - acc: 0.5775 - val_loss: 1.0621 - val_acc: 0.6087\n",
            "Epoch 5/20\n",
            "185/185 [==============================] - 13s 70ms/step - loss: 1.1381 - acc: 0.5983 - val_loss: 1.0156 - val_acc: 0.6569\n",
            "Epoch 6/20\n",
            "185/185 [==============================] - 13s 68ms/step - loss: 1.0953 - acc: 0.6175 - val_loss: 0.9812 - val_acc: 0.6658\n",
            "Epoch 7/20\n",
            "185/185 [==============================] - 13s 70ms/step - loss: 1.0617 - acc: 0.6279 - val_loss: 0.9305 - val_acc: 0.6720\n",
            "Epoch 8/20\n",
            "185/185 [==============================] - 13s 69ms/step - loss: 1.0129 - acc: 0.6433 - val_loss: 0.9053 - val_acc: 0.6836\n",
            "Epoch 9/20\n",
            "185/185 [==============================] - 12s 68ms/step - loss: 0.9826 - acc: 0.6541 - val_loss: 0.8781 - val_acc: 0.7094\n",
            "Epoch 10/20\n",
            "185/185 [==============================] - 13s 68ms/step - loss: 0.9482 - acc: 0.6676 - val_loss: 0.9052 - val_acc: 0.6934\n",
            "Epoch 11/20\n",
            "185/185 [==============================] - 13s 68ms/step - loss: 0.9340 - acc: 0.6711 - val_loss: 0.8565 - val_acc: 0.6927\n",
            "Epoch 12/20\n",
            "185/185 [==============================] - 13s 68ms/step - loss: 0.9107 - acc: 0.6807 - val_loss: 0.8174 - val_acc: 0.7157\n",
            "Epoch 13/20\n",
            "185/185 [==============================] - 12s 67ms/step - loss: 0.8906 - acc: 0.6887 - val_loss: 0.8285 - val_acc: 0.7210\n",
            "Epoch 14/20\n",
            "185/185 [==============================] - 13s 69ms/step - loss: 0.8768 - acc: 0.6971 - val_loss: 0.8260 - val_acc: 0.7237\n",
            "Epoch 15/20\n",
            "185/185 [==============================] - 12s 67ms/step - loss: 0.8698 - acc: 0.6958 - val_loss: 0.7208 - val_acc: 0.7504\n",
            "Epoch 16/20\n",
            "185/185 [==============================] - 13s 68ms/step - loss: 0.8463 - acc: 0.7028 - val_loss: 0.8266 - val_acc: 0.7201\n",
            "Epoch 17/20\n",
            "185/185 [==============================] - 12s 67ms/step - loss: 0.8370 - acc: 0.7033 - val_loss: 0.7431 - val_acc: 0.7424\n",
            "Epoch 18/20\n",
            "185/185 [==============================] - 12s 66ms/step - loss: 0.8243 - acc: 0.7120 - val_loss: 0.7672 - val_acc: 0.7380\n",
            "Epoch 19/20\n",
            "185/185 [==============================] - 13s 69ms/step - loss: 0.8076 - acc: 0.7158 - val_loss: 0.7434 - val_acc: 0.7326\n",
            "Epoch 20/20\n",
            "185/185 [==============================] - 13s 68ms/step - loss: 0.8050 - acc: 0.7175 - val_loss: 0.8126 - val_acc: 0.7406\n",
            "79/79 [==============================] - 1s 7ms/step\n",
            "Accuracy of rand_init_classifier on test data is 72.80%\n"
          ],
          "name": "stdout"
        }
      ]
    },
    {
      "cell_type": "code",
      "metadata": {
        "id": "NsgCn3EMxzFT",
        "colab_type": "code",
        "colab": {
          "base_uri": "https://localhost:8080/",
          "height": 306
        },
        "outputId": "8564c79b-de17-453a-ad78-107d5a51610a"
      },
      "source": [
        "test_datagen = ImageDataGenerator(\n",
        "      samplewise_center=True,\n",
        "      samplewise_std_normalization=True)\n",
        "\n",
        "test_datagen.fit(x_test)\n",
        "test_iterator = test_datagen.flow(x_test, shuffle=False)\n",
        "\n",
        "y_pred = model.rand_init_classifier.predict_generator(test_iterator)\n",
        "y_pred = np.argmax(y_pred, axis=1)\n",
        "print(classification_report(y_test, y_pred))"
      ],
      "execution_count": 79,
      "outputs": [
        {
          "output_type": "stream",
          "text": [
            "              precision    recall  f1-score   support\n",
            "\n",
            "           0       0.75      0.81      0.78       500\n",
            "           1       0.86      0.83      0.85       500\n",
            "           2       0.63      0.64      0.63       500\n",
            "           3       0.66      0.37      0.47       500\n",
            "           4       0.70      0.64      0.67       500\n",
            "           5       0.67      0.61      0.64       500\n",
            "           6       0.68      0.88      0.76       500\n",
            "           7       0.68      0.86      0.76       500\n",
            "           8       0.85      0.82      0.83       500\n",
            "           9       0.80      0.83      0.81       500\n",
            "\n",
            "    accuracy                           0.73      5000\n",
            "   macro avg       0.73      0.73      0.72      5000\n",
            "weighted avg       0.73      0.73      0.72      5000\n",
            "\n"
          ],
          "name": "stdout"
        }
      ]
    },
    {
      "cell_type": "markdown",
      "metadata": {
        "id": "s-FevneQ0E2I",
        "colab_type": "text"
      },
      "source": [
        "Finally, in the following code block we repeat the experiment 10 times and store the model weights as well as the evaluation results."
      ]
    },
    {
      "cell_type": "code",
      "metadata": {
        "id": "tWcrOHoEyo-0",
        "colab_type": "code",
        "colab": {}
      },
      "source": [
        "os.makedirs(\"model_weights/pretrained_classifier\")\n",
        "os.makedirs(\"model_weights/rand_init_classifier\")\n",
        "os.makedirs(\"model_weights/autencoder\")"
      ],
      "execution_count": 0,
      "outputs": []
    },
    {
      "cell_type": "code",
      "metadata": {
        "id": "nOt7KQ9KzE_V",
        "colab_type": "code",
        "outputId": "3a662347-d5e5-4199-e551-76f5f81045fa",
        "colab": {
          "base_uri": "https://localhost:8080/",
          "height": 323
        }
      },
      "source": [
        "histories = {\"autoencoder\":[],\n",
        "             \"pretrained_classifier\":[],\n",
        "             \"rand_init_classifier\":[]}\n",
        "\n",
        "results = {\"pretrained_classifier\":[],\n",
        "             \"rand_init_classifier\":[]}\n",
        "\n",
        "epochs = 20\n",
        "batch_size = 128\n",
        "\n",
        "for n in range(10):\n",
        "  print(f\"Experiment {n+1}/{10}\")\n",
        "  model = CAE_classifier(input_shape)\n",
        "\n",
        "  history = model.train_autoencoder(x_train,x_val, epochs = epochs, batch_size = 64, verbose = 0)\n",
        "  model.autoencoder.save_weights(\"model_weights/autencoder/weights_\" + str(n))\n",
        "  histories[\"autoencoder\"].append(history)\n",
        "\n",
        "  history = model.train_classifier((x_train,y_train),(x_val,y_val), pretrained = True, data_augmentation=True,batch_size = batch_size, epochs = epochs, verbose = 0)\n",
        "  model.pretrained_classifier.save_weights(\"model_weights/pretrained_classifier/weights_\" + str(n))\n",
        "  result = model.evaluate_classifier(x_test,y_test, key = \"pretrained_classifier\")\n",
        "  histories[\"pretrained_classifier\"].append(history)\n",
        "  results[\"pretrained_classifier\"].append(result)\n",
        "\n",
        "  history = model.train_classifier((x_train,y_train),(x_val,y_val), pretrained = False, data_augmentation=True, batch_size = batch_size, epochs = epochs, verbose = 0)\n",
        "  model.rand_init_classifier.save_weights(\"model_weights/rand_init_classifier/weights_\" + str(n))\n",
        "  result = model.evaluate_classifier(x_test,y_test, key = \"rand_init_classifier\")\n",
        "  histories[\"rand_init_classifier\"].append(history)\n",
        "  results[\"rand_init_classifier\"].append(result)\n",
        "\n",
        "print(results)\n"
      ],
      "execution_count": 0,
      "outputs": [
        {
          "output_type": "stream",
          "text": [
            "Experiment 1/10\n",
            "79/79 [==============================] - 1s 12ms/step\n",
            "Accuracy of pretrained_classifier on test data is 74.12%\n",
            "79/79 [==============================] - 1s 11ms/step\n",
            "Accuracy of rand_init_classifier on test data is 73.70%\n",
            "Experiment 2/10\n",
            "79/79 [==============================] - 1s 11ms/step\n",
            "Accuracy of pretrained_classifier on test data is 72.58%\n",
            "79/79 [==============================] - 1s 11ms/step\n",
            "Accuracy of rand_init_classifier on test data is 74.12%\n",
            "Experiment 3/10\n",
            "79/79 [==============================] - 1s 11ms/step\n",
            "Accuracy of pretrained_classifier on test data is 73.46%\n",
            "79/79 [==============================] - 1s 12ms/step\n",
            "Accuracy of rand_init_classifier on test data is 70.56%\n",
            "Experiment 4/10\n",
            "79/79 [==============================] - 1s 11ms/step\n",
            "Accuracy of pretrained_classifier on test data is 72.54%\n"
          ],
          "name": "stdout"
        }
      ]
    }
  ]
}